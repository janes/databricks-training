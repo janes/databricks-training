{
 "cells": [
  {
   "cell_type": "markdown",
   "metadata": {},
   "source": [
    "# Classes & Iterators\n",
    "This notebook will walk you through concepts behind Class and Iterators.<br>\n",
    "Here is a built-from-scratch Class that spits out the Fibonacci sequence. It behaves like an iterator"
   ]
  },
  {
   "cell_type": "code",
   "execution_count": null,
   "metadata": {},
   "outputs": [],
   "source": [
    "class Fib:\n",
    "    '''iterator that yields numbers in the Fibonacci sequence'''\n",
    "\n",
    "    def __init__(self, max):\n",
    "        '''\n",
    "        Constructor for the class\n",
    "        '''\n",
    "        self.max = max\n",
    "    \n",
    "    def print_max(self):\n",
    "        '''\n",
    "        member function\n",
    "        '''\n",
    "        print(self.max)\n",
    "\n",
    "    def __iter__(self):\n",
    "        '''\n",
    "        overriding member function\n",
    "        '''\n",
    "        self.a = 0\n",
    "        self.b = 1\n",
    "        return self\n",
    "\n",
    "    def __next__(self):\n",
    "        '''\n",
    "        overriding member function\n",
    "        '''\n",
    "        fib = self.a\n",
    "        if fib > self.max:\n",
    "            raise StopIteration\n",
    "        self.a, self.b = self.b, self.a + self.b\n",
    "        return fib"
   ]
  },
  {
   "cell_type": "code",
   "execution_count": null,
   "metadata": {},
   "outputs": [],
   "source": [
    "# Instantiate an object of Class Fib\n",
    "fib_obj = Fib(10)"
   ]
  },
  {
   "cell_type": "code",
   "execution_count": null,
   "metadata": {},
   "outputs": [],
   "source": [
    "# Access the object's member variable\n",
    "print(fib_obj.max)"
   ]
  },
  {
   "cell_type": "code",
   "execution_count": null,
   "metadata": {},
   "outputs": [],
   "source": [
    "# Access the object's member function\n",
    "fib_obj.print_max()"
   ]
  },
  {
   "cell_type": "code",
   "execution_count": null,
   "metadata": {},
   "outputs": [],
   "source": [
    "# Use the object as an iterator\n",
    "for n in fib_obj:\n",
    "    print(n, end=' ')"
   ]
  },
  {
   "cell_type": "markdown",
   "metadata": {},
   "source": [
    "#### Few Concepts worth exploring in the above example\n",
    "- What is a Class?\n",
    "- What is member variable and what is a member function\n",
    "- How do you override functions to create an iterator that could be used in a for loop?\n",
    "<br>\n",
    "\n",
    "#### Let's go over these concepts step by step"
   ]
  },
  {
   "cell_type": "markdown",
   "metadata": {},
   "source": [
    "#### Defining Classes\n",
    "Python is fully object-oriented: you can define your own classes, inherit from your own or built-in classes, and instantiate the classes you’ve defined.\n",
    "\n",
    "Defining a class in Python is simple. As with functions, there is no separate interface definition. Just define the class and start coding. A Python class starts with the reserved word class, followed by the class name. Technically, that’s all that’s required, since a class doesn’t need to inherit from any other class."
   ]
  },
  {
   "cell_type": "code",
   "execution_count": null,
   "metadata": {},
   "outputs": [],
   "source": [
    "# Class names are usually capitalized, EachWordLikeThis,\n",
    "# but this is only a convention, not a requirement.\n",
    "class Fib:\n",
    "    pass"
   ]
  },
  {
   "cell_type": "markdown",
   "metadata": {},
   "source": [
    "Many classes are inherited from other classes, but this one is not.\n",
    "\n",
    "Many classes define methods, but this one does not. There is nothing that a Python class absolutely must have, other than a name."
   ]
  },
  {
   "cell_type": "markdown",
   "metadata": {},
   "source": [
    "#### The __init__() Method\n"
   ]
  },
  {
   "cell_type": "code",
   "execution_count": null,
   "metadata": {},
   "outputs": [],
   "source": [
    "class Fib:\n",
    "    '''doc String for the Class Fib'''\n",
    "    def __init__(self, max):\n",
    "        '''\n",
    "        Constructor for the class\n",
    "        '''\n",
    "        self.max = max    #This is how you create an instance variable."
   ]
  },
  {
   "cell_type": "markdown",
   "metadata": {},
   "source": [
    "The __init__() method is called immediately after an instance of the class is created. It would be tempting — but technically incorrect — to call this the “constructor” of the class. It’s tempting, because it looks like a C++ constructor (by convention, the __init__() method is the first method defined for the class), acts like one (it’s the first piece of code executed in a newly created instance of the class), and even sounds like one. Incorrect, because the object has already been constructed by the time the __init__() method is called, and you already have a valid reference to the new instance of the class.\n",
    "\n",
    "The first argument of every class method, including the __init__() method, is always a reference to the current instance of the class. By convention, this argument is named self. This argument fills the role of the reserved word this in c++ or Java, but self is not a reserved word in Python, merely a naming convention. Nonetheless, please don’t call it anything but self; this is a very strong convention.\n",
    "\n",
    "In all class methods, self refers to the instance whose method was called. But in the specific case of the __init__() method, the instance whose method was called is also the newly created object. Although you need to specify self explicitly when defining the method, you do not specify it when calling the method; Python will add it for you automatically."
   ]
  },
  {
   "cell_type": "code",
   "execution_count": null,
   "metadata": {},
   "outputs": [],
   "source": [
    "# Classes can (and should) have docstrings too, just like modules and functions.\n",
    "print(Fib.__doc__)"
   ]
  },
  {
   "cell_type": "code",
   "execution_count": null,
   "metadata": {},
   "outputs": [],
   "source": [
    "# Instantiating the class\n",
    "fib = Fib(10)\n",
    "fib   #fib is now an instance of Fib class"
   ]
  },
  {
   "cell_type": "code",
   "execution_count": null,
   "metadata": {},
   "outputs": [],
   "source": [
    "# Access the object's member instance variable\n",
    "print(fib.max)"
   ]
  },
  {
   "cell_type": "markdown",
   "metadata": {},
   "source": [
    "Instance variables are specific to one instance of a class.\n",
    "\n",
    "For example, if you create two Fib instances with different maximum values, they will each remember their own values.\n"
   ]
  },
  {
   "cell_type": "code",
   "execution_count": null,
   "metadata": {},
   "outputs": [],
   "source": [
    "fib2 = Fib(20)\n",
    "print(fib2.max)   # Note that each instance will have it's own variable named \"max\""
   ]
  },
  {
   "cell_type": "markdown",
   "metadata": {},
   "source": [
    "### Defining a Member Functions: print_max()"
   ]
  },
  {
   "cell_type": "code",
   "execution_count": null,
   "metadata": {},
   "outputs": [],
   "source": [
    "class Fib:\n",
    "    '''iterator that yields numbers in the Fibonacci sequence'''\n",
    "\n",
    "    def __init__(self, max):\n",
    "        '''\n",
    "        Constructor for the class\n",
    "        '''\n",
    "        self.max = max\n",
    "    \n",
    "    def print_max(self):\n",
    "        '''\n",
    "        member function: Note that the first variable passed to the function\n",
    "        must be a reference to the object, which is \"self\"\n",
    "        '''\n",
    "        print(self.max)"
   ]
  },
  {
   "cell_type": "code",
   "execution_count": null,
   "metadata": {},
   "outputs": [],
   "source": [
    "fib = Fib(10)\n",
    "fib.print_max()"
   ]
  },
  {
   "cell_type": "markdown",
   "metadata": {},
   "source": [
    "Note that the reference to object 'self' gets implicitly passed to print_max()"
   ]
  },
  {
   "cell_type": "markdown",
   "metadata": {},
   "source": [
    "Every class instance has a built-in attribute, __class__, which is the object’s class. Java programmers may be familiar with the Class class, which contains methods like getName() and getSuperclass() to get metadata information about an object. In Python, this kind of metadata is available through attributes, but the idea is the same.\n"
   ]
  },
  {
   "cell_type": "code",
   "execution_count": null,
   "metadata": {},
   "outputs": [],
   "source": [
    "fib.__class__"
   ]
  },
  {
   "cell_type": "markdown",
   "metadata": {},
   "source": [
    "### Building an ITERATOR\n",
    "Now you’re ready to learn how to build an iterator. An iterator is just a class that defines an __iter__() method."
   ]
  },
  {
   "cell_type": "code",
   "execution_count": null,
   "metadata": {},
   "outputs": [],
   "source": [
    "class Fib:\n",
    "    '''iterator that yields numbers in the Fibonacci sequence'''\n",
    "\n",
    "    def __init__(self, max):\n",
    "        '''\n",
    "        Constructor for the class\n",
    "        '''\n",
    "        self.max = max\n",
    "    \n",
    "    def print_max(self):\n",
    "        '''\n",
    "        member function\n",
    "        '''\n",
    "        print(self.max)\n",
    "\n",
    "    def __iter__(self):\n",
    "        '''\n",
    "        overriding member function\n",
    "        '''\n",
    "        self.a = 0\n",
    "        self.b = 1\n",
    "        return self\n",
    "\n",
    "    def __next__(self):\n",
    "        '''\n",
    "        overriding member function\n",
    "        '''\n",
    "        fib = self.a\n",
    "        if fib > self.max:\n",
    "            raise StopIteration\n",
    "        self.a, self.b = self.b, self.a + self.b\n",
    "        return fib"
   ]
  },
  {
   "cell_type": "markdown",
   "metadata": {},
   "source": [
    "The __iter__() method is called whenever someone calls iter(fib). (As you’ll see in a minute, a for loop will call this automatically, but you can also call it yourself manually.)\n",
    "\n",
    "After performing beginning-of-iteration initialization (in this case, resetting self.a and self.b, our two counters), the __iter__() method can return any object that implements a __next__() method. In this case (and in most cases), __iter__() simply returns self, since this class implements its own __next__() method.\n",
    "\n",
    "The __next__() method is called whenever someone calls next() on an iterator of an instance of a class. That will make more sense in a minute.\n",
    "\n",
    "When the __next__() method raises a StopIteration exception, this signals to the caller that the iteration is exhausted. Unlike most exceptions, this is not an error; it’s a normal condition that just means that the iterator has no more values to generate. If the caller is a for loop, it will notice this StopIteration exception and gracefully exit the loop. (In other words, it will swallow the exception.) This little bit of magic is actually the key to using iterators in for loops.\n",
    "\n",
    "To spit out the next value, an iterator’s __next__() method simply returns the value. Do not use yield here; that’s a bit of syntactic sugar that only applies when you’re using generators. Here you’re creating your own iterator from scratch; use return instead."
   ]
  },
  {
   "cell_type": "code",
   "execution_count": null,
   "metadata": {},
   "outputs": [],
   "source": [
    "# Instantiate an object of Class Fib\n",
    "fib_obj = Fib(30)\n",
    "\n",
    "# Use the object as an iterator\n",
    "for n in fib_obj:\n",
    "    print(n, end=' ')"
   ]
  },
  {
   "cell_type": "code",
   "execution_count": null,
   "metadata": {},
   "outputs": [],
   "source": [
    "# Can also instantiate object of class Fib within for loop\n",
    "for n in Fib(20):\n",
    "    print(n, end=' ')"
   ]
  },
  {
   "cell_type": "markdown",
   "metadata": {},
   "source": [
    "- The for loop calls Fib(20), as shown. This returns an instance of the Fib class. Call this fib_inst.\n",
    "- Secretly, and quite cleverly, the for loop calls iter(fib_inst), which returns an iterator object. Call this fib_iter. In this case, fib_iter == fib_inst, because the __iter__() method returns self, but the for loop doesn’t know (or care) about that.\n",
    "- To “loop through” the iterator, the for loop calls next(fib_iter), which calls the __next__() method on the fib_iter object, which does the next-Fibonacci-number calculations and returns a value. The for loop takes this value and assigns it to n, then executes the body of the for loop for that value of n.\n",
    "- How does the for loop know when to stop? I’m glad you asked! When next(fib_iter) raises a StopIteration exception, the for loop will swallow the exception and gracefully exit. (Any other exception will pass through and be raised as usual.) And where have you seen a StopIteration exception? In the __next__() method, of course!"
   ]
  },
  {
   "cell_type": "code",
   "execution_count": null,
   "metadata": {},
   "outputs": [],
   "source": []
  }
 ],
 "metadata": {
  "kernelspec": {
   "display_name": "Python 3",
   "language": "python",
   "name": "python3"
  },
  "language_info": {
   "codemirror_mode": {
    "name": "ipython",
    "version": 3
   },
   "file_extension": ".py",
   "mimetype": "text/x-python",
   "name": "python",
   "nbconvert_exporter": "python",
   "pygments_lexer": "ipython3",
   "version": "3.7.1"
  }
 },
 "nbformat": 4,
 "nbformat_minor": 2
}
