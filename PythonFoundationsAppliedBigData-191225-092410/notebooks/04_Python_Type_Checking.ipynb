{
 "cells": [
  {
   "cell_type": "markdown",
   "metadata": {},
   "source": [
    "# Python Type Checking\n",
    "\n",
    "Reference: https://realpython.com/python-type-checking/#type-variables\n",
    "\n",
    "Traditionally, types have been handled by the Python interpreter in a flexible but implicit way.\n",
    "\n",
    "Recent versions of Python allow you to specify explicit type hints that can be used by different tools to help you develop your code more efficiently.\n",
    "\n",
    "Especially when Data processing has to be scaled to multiple compute nodes (Eg: Spark), it's essential to give sufficient clues to the interpreter so that the code is efficient as well as robust.\n",
    "\n",
    "Enforcing Type Checking ensures that as many bugs are caught early in the process as opposed to running into issues when the Python / PySpark goes into production."
   ]
  },
  {
   "cell_type": "markdown",
   "metadata": {},
   "source": [
    "In this tutorial, you’ll learn about the following:\n",
    "\n",
    "- Type annotations and type hints\n",
    "- Adding static types to code, both your code and the code of others\n",
    "- Running a static type checker\n",
    "- Enforcing types at runtime"
   ]
  },
  {
   "cell_type": "markdown",
   "metadata": {},
   "source": [
    "## Dynamic Typing\n",
    "Python is a dynamically typed language. This means that the Python interpreter does type checking only as code runs, and that the type of a variable is allowed to change over its lifetime. The following dummy examples demonstrate that Python has dynamic typing:"
   ]
  },
  {
   "cell_type": "code",
   "execution_count": null,
   "metadata": {},
   "outputs": [],
   "source": [
    "if False:\n",
    "    1 + \"two\"  # This line never runs, so no TypeError is raised\n",
    "else:\n",
    "    1 + 2"
   ]
  },
  {
   "cell_type": "code",
   "execution_count": null,
   "metadata": {},
   "outputs": [],
   "source": [
    "1 + \"two\"  # Now this is type checked, and a TypeError is raised"
   ]
  },
  {
   "cell_type": "markdown",
   "metadata": {},
   "source": [
    "In the first example, the branch 1 + \"two\" never runs so it’s never type checked.\n",
    "\n",
    "The second example shows that when 1 + \"two\" is evaluated it raises a TypeError since you can’t add an integer and a string in Python."
   ]
  },
  {
   "cell_type": "code",
   "execution_count": null,
   "metadata": {},
   "outputs": [],
   "source": [
    "# Next, let’s see if variables can change type:\n",
    "thing = \"Hello\"\n",
    "type(thing)"
   ]
  },
  {
   "cell_type": "code",
   "execution_count": null,
   "metadata": {},
   "outputs": [],
   "source": [
    "# Now, let's assign a floating point number to 'thing' which is of type 'str'\n",
    "thing = 28.1\n",
    "type(thing)"
   ]
  },
  {
   "cell_type": "markdown",
   "metadata": {},
   "source": [
    "type() returns the type of an object. These examples confirm that the type of thing is allowed to change, and Python correctly infers the type as it changes."
   ]
  },
  {
   "cell_type": "markdown",
   "metadata": {},
   "source": [
    "### Static Typing\n",
    "\n",
    "The opposite of dynamic typing is static typing. Static type checks are performed without running the program. In most statically typed languages, for instance C and Java, this is done as your program is compiled.\n",
    "\n",
    "With static typing, variables generally are not allowed to change types, although mechanisms for casting a variable to a different type may exist.\n",
    "\n",
    "Python will always remain a dynamically typed language. However, PEP 484 introduced type hints, which make it possible to also do static type checking of Python code.\n",
    "\n",
    "Unlike how types work in most other statically typed languages, type hints by themselves don’t cause Python to enforce types. As the name says, type hints just suggest types. There are other tools, which you’ll see later, that perform static type checking using type hints."
   ]
  },
  {
   "cell_type": "code",
   "execution_count": null,
   "metadata": {},
   "outputs": [],
   "source": [
    "#Function Without Type checking\n",
    "def headline(text, align=True):\n",
    "    if align:\n",
    "        return f\"{text.title()}\\n{'-' * len(text)}\"\n",
    "    else:\n",
    "        return f\" {text.title()} \".center(50, \"o\")"
   ]
  },
  {
   "cell_type": "code",
   "execution_count": null,
   "metadata": {},
   "outputs": [],
   "source": [
    "print(headline(\"Hello how are you\", False))"
   ]
  },
  {
   "cell_type": "code",
   "execution_count": null,
   "metadata": {},
   "outputs": [],
   "source": [
    "print(headline(\"Hello how are you\", True))"
   ]
  },
  {
   "cell_type": "code",
   "execution_count": null,
   "metadata": {},
   "outputs": [],
   "source": [
    "def headline(text: str, align: bool=True) -> str:\n",
    "    if align:\n",
    "        return f\"{text.title()}\\n{'-' * len(text)}\"\n",
    "    else:\n",
    "        return f\" {text.title()} \".center(50, \"o\")"
   ]
  },
  {
   "cell_type": "markdown",
   "metadata": {},
   "source": [
    "### Using Type Checking in Coding Environment like PyCharm will give warnings\n",
    "<img src=\"../images/pycharm_type_check_error.png\" alt=\"Alt text that describes the graphic\" title=\"Title text\" />"
   ]
  },
  {
   "cell_type": "markdown",
   "metadata": {},
   "source": [
    "The most common tool for doing type checking is Mypy though.\n",
    "\n",
    "If you don’t already have Mypy on your system, you can install it using pip:"
   ]
  },
  {
   "cell_type": "code",
   "execution_count": null,
   "metadata": {},
   "outputs": [],
   "source": [
    "! pip install mypy"
   ]
  },
  {
   "cell_type": "markdown",
   "metadata": {},
   "source": [
    "%%writefile  is jupyter magic function. All the lines below get written into file with name headline.py"
   ]
  },
  {
   "cell_type": "code",
   "execution_count": null,
   "metadata": {},
   "outputs": [],
   "source": [
    "%%writefile headline.py\n",
    "\n",
    "def headline(text: str, align: bool = True) -> str:\n",
    "    if align:\n",
    "        return f\"{text.title()}\\n{'-' * len(text)}\"\n",
    "    else:\n",
    "        return f\" {text.title()} \".center(50, \"o\")\n",
    "\n",
    "print(headline(\"python type checking\"))\n",
    "print(headline(\"use mypy\", align=\"center\"))"
   ]
  },
  {
   "cell_type": "code",
   "execution_count": null,
   "metadata": {},
   "outputs": [],
   "source": [
    "! ls -al headline.py"
   ]
  },
  {
   "cell_type": "code",
   "execution_count": null,
   "metadata": {},
   "outputs": [],
   "source": [
    "! mypy headline.py"
   ]
  },
  {
   "cell_type": "code",
   "execution_count": null,
   "metadata": {},
   "outputs": [],
   "source": [
    "! python headline.py"
   ]
  },
  {
   "cell_type": "markdown",
   "metadata": {},
   "source": [
    "As you can see, mypy does typechecking and points out the error.\n",
    "\n",
    "This is a great way to make sure you catch as many issues as early as possible in the development life cycle.\n",
    "\n",
    "Also note that despite the Type check issue, we can actually execute the code, which could lead to ambiguous outcomes. For example, what the code expects is a simple True or False in the place of parameter 'align'. But when it gets a string, it interprets \"center\" as False.\n",
    "\n",
    "Now, let's fix the error and typecheck"
   ]
  },
  {
   "cell_type": "code",
   "execution_count": null,
   "metadata": {},
   "outputs": [],
   "source": [
    "%%writefile headline.py\n",
    "\n",
    "def headline(text: str, align: bool = True) -> str:\n",
    "    if align:\n",
    "        return f\"{text.title()}\\n{'-' * len(text)}\"\n",
    "    else:\n",
    "        return f\" {text.title()} \".center(50, \"o\")\n",
    "\n",
    "print(headline(\"python type checking\"))\n",
    "print(headline(\"use mypy\", align=False))"
   ]
  },
  {
   "cell_type": "code",
   "execution_count": null,
   "metadata": {},
   "outputs": [],
   "source": [
    "! mypy headline.py"
   ]
  },
  {
   "cell_type": "markdown",
   "metadata": {},
   "source": [
    "OK, we resolved the errors, let's actually execute"
   ]
  },
  {
   "cell_type": "code",
   "execution_count": null,
   "metadata": {},
   "outputs": [],
   "source": [
    "! python headline.py"
   ]
  },
  {
   "cell_type": "markdown",
   "metadata": {},
   "source": [
    "### Advantages of Type Checking\n",
    "\n",
    "Type hints help catch certain errors. Other advantages include:\n",
    "\n",
    "Type hints help document your code. Traditionally, you would use docstrings if you wanted to document the expected types of a function’s arguments. This works, but as there is no standard for docstrings (despite PEP 257 they can’t be easily used for automatic checks.\n",
    "\n",
    "Type hints improve IDEs and linters. They make it much easier to statically reason about your code. This in turn allows IDEs to offer better code completion and similar features. With the type annotation, PyCharm knows that text is a string, and can give specific suggestions based on this:\n",
    "\n",
    "<img src=\"../images/type_check_ide.png\" alt=\"Code completion in PyCharm on a typed variable\" title=\"Title text\" />\n",
    "\n",
    "\n",
    "\n",
    "Type hints help you build and maintain a cleaner architecture. The act of writing type hints forces you to think about the types in your program. While the dynamic nature of Python is one of its great assets, being conscious about relying on duck typing, overloaded methods, or multiple return types is a good thing."
   ]
  },
  {
   "cell_type": "markdown",
   "metadata": {},
   "source": [
    "### Function Annotations\n",
    "For functions, you can annotate arguments and the return value. This is done as follows:"
   ]
  },
  {
   "cell_type": "code",
   "execution_count": null,
   "metadata": {},
   "outputs": [],
   "source": [
    "import math\n",
    "\n",
    "def circumference(radius: float) -> float:\n",
    "    return 2 * math.pi * radius"
   ]
  },
  {
   "cell_type": "code",
   "execution_count": null,
   "metadata": {},
   "outputs": [],
   "source": [
    "circumference(1.23)"
   ]
  },
  {
   "cell_type": "code",
   "execution_count": null,
   "metadata": {},
   "outputs": [],
   "source": [
    "circumference.__annotations__"
   ]
  },
  {
   "cell_type": "markdown",
   "metadata": {},
   "source": [
    "Reference:\n",
    "    https://www.linkedin.com/pulse/codingzen-static-typing-python-way-david-schaaf/?trackingId=zU3apCNwd2M8lUcFpab6YQ%3D%3D"
   ]
  },
  {
   "cell_type": "code",
   "execution_count": null,
   "metadata": {},
   "outputs": [],
   "source": []
  }
 ],
 "metadata": {
  "kernelspec": {
   "display_name": "Python 3",
   "language": "python",
   "name": "python3"
  },
  "language_info": {
   "codemirror_mode": {
    "name": "ipython",
    "version": 3
   },
   "file_extension": ".py",
   "mimetype": "text/x-python",
   "name": "python",
   "nbconvert_exporter": "python",
   "pygments_lexer": "ipython3",
   "version": "3.7.1"
  }
 },
 "nbformat": 4,
 "nbformat_minor": 2
}
